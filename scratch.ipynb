{
 "cells": [
  {
   "cell_type": "code",
   "execution_count": 2,
   "metadata": {
    "collapsed": false
   },
   "outputs": [
   ],
   "source": [
    "import numpy as np\n",
    "import array_calculus as ac"
   ]
  },
  {
   "cell_type": "code",
   "execution_count": 4,
   "metadata": {
    "collapsed": false
   },
   "outputs": [
    {
     "name": "stdout",
     "output_type": "stream",
     "text": [
      "[[ 0.  1.  0. ...,  0.  0.  0.]\n",
      " [-1.  0.  1. ...,  0.  0.  0.]\n",
      " [ 0. -1.  0. ...,  0.  0.  0.]\n",
      " ..., \n",
      " [ 0.  0.  0. ...,  0.  1.  0.]\n",
      " [ 0.  0.  0. ..., -1.  0.  1.]\n",
      " [ 0.  0.  0. ...,  0. -1.  0.]]\n",
      "[[ 0.  1.  0. ...,  0.  0.  0.]\n",
      " [-1.  0.  1. ...,  0.  0.  0.]\n",
      " [ 0. -1.  0. ...,  0.  0.  0.]\n",
      " ..., \n",
      " [ 0.  0.  0. ...,  0.  1.  0.]\n",
      " [ 0.  0.  0. ..., -1.  0.  1.]\n",
      " [ 0.  0.  0. ...,  0. -1.  0.]]\n",
      "[[ 196.02 -392.04  196.02 ...,    0.      0.      0.  ]\n",
      " [ 196.02 -294.03    0.   ...,    0.      0.      0.  ]\n",
      " [  98.01    0.   -196.02 ...,    0.      0.      0.  ]\n",
      " ..., \n",
      " [   0.      0.      0.   ..., -196.02    0.     98.01]\n",
      " [   0.      0.      0.   ...,    0.   -294.03  196.02]\n",
      " [   0.      0.      0.   ...,  196.02 -392.04  196.02]]\n"
     ]
    },
    {
     "data": {
      "text/plain": [
       "array([ 1. ,  1.5,  2. ,  2. ,  2. ,  2. ,  2. ,  2. ,  2. ,  2. ,  2. ,\n",
       "        2. ,  2. ,  2. ,  2. ,  2. ,  2. ,  2. ,  2. ,  2. ,  2. ,  2. ,\n",
       "        2. ,  2. ,  2. ,  2. ,  2. ,  2. ,  2. ,  2. ,  2. ,  2. ,  2. ,\n",
       "        2. ,  2. ,  2. ,  2. ,  2. ,  2. ,  2. ,  2. ,  2. ,  2. ,  2. ,\n",
       "        2. ,  2. ,  2. ,  2. ,  2. ,  2. ,  2. ,  2. ,  2. ,  2. ,  2. ,\n",
       "        2. ,  2. ,  2. ,  2. ,  2. ,  2. ,  2. ,  2. ,  2. ,  2. ,  2. ,\n",
       "        2. ,  2. ,  2. ,  2. ,  2. ,  2. ,  2. ,  2. ,  2. ,  2. ,  2. ,\n",
       "        2. ,  2. ,  2. ,  2. ,  2. ,  2. ,  2. ,  2. ,  2. ,  2. ,  2. ,\n",
       "        2. ,  2. ,  2. ,  2. ,  2. ,  2. ,  2. ,  2. ,  2. ,  2. ,  1.5,\n",
       "        1. ])"
      ]
     },
     "execution_count": 4,
     "metadata": {
     },
     "output_type": "execute_result"
    }
   ],
   "source": [
    "D2 = ac.second_derivative(0,5,100)\n",
    "f = ac.f(0,5,100)\n",
    "np.matmul(D2,f)"
   ]
  },
  {
   "cell_type": "code",
   "execution_count": 0,
   "metadata": {
    "collapsed": false
   },
   "outputs": [
   ],
   "source": [
   ]
  },
  {
   "cell_type": "code",
   "execution_count": 0,
   "metadata": {
    "collapsed": false
   },
   "outputs": [
   ],
   "source": [
   ]
  }
 ],
 "metadata": {
  "kernelspec": {
   "display_name": "Python 3 (Anaconda)",
   "language": "python",
   "name": "anaconda3"
  },
  "language_info": {
   "codemirror_mode": {
    "name": "ipython",
    "version": 3
   },
   "file_extension": ".py",
   "mimetype": "text/x-python",
   "name": "python",
   "nbconvert_exporter": "python",
   "pygments_lexer": "ipython3",
   "version": "3.5.5"
  }
 },
 "nbformat": 4,
 "nbformat_minor": 0
}