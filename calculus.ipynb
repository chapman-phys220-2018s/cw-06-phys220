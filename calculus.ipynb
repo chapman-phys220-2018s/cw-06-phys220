{
 "cells": [
  {
   "cell_type": "code",
   "execution_count": 1,
   "metadata": {
    "collapsed": false
   },
   "outputs": [
   ],
   "source": [
    "import numpy as np\n",
    "import matplotlib.pyplot as plt\n",
    "import array_calculus "
   ]
  },
  {
   "cell_type": "markdown",
   "metadata": {
    "collapsed": false
   },
   "source": [
    "# Classwork 06\n",
    "\n",
    "Daniel, Devon, Myranda\n",
    "\n",
    "\n"
   ]
  },
  {
   "cell_type": "markdown",
   "metadata": {
    "collapsed": false
   },
   "source": [
    "##### I. Derivative Function\n",
    "The derivative function takes takes three input parameters: (1) the left end point $[a,b]$, (2) the right end poitn $[a,b]$, and (3) the number of points, $n$, into which that domain is partitioned and will essentially return a 2-dimensional two-dimensional numpy array, $D$ of dimension $n$x$n$. Given a discrete function approximation represented by an nn-dimensional array, $f = [f_{0},...,f{n-1}]$, defined as $f{i} = f(x{i})$ on the grid of points $x_{i}$ from $i = 0$ to $i = n$ with fixed spacing $x_{i+1}-x_{i} = dx$ where $dx=(b-a)/(n-1)$, applying the central difference matrix should yield a new $n$-dimensional array $Df = [(Df)_{0},...,(Df)_{n-1}]$ with the interior points: $$(Df)_{i}$$\n"
   ]
  },
  {
   "cell_type": "code",
   "execution_count": 0,
   "metadata": {
    "collapsed": false
   },
   "outputs": [
   ],
   "source": [
   ]
  },
  {
   "cell_type": "code",
   "execution_count": 0,
   "metadata": {
    "collapsed": false
   },
   "outputs": [
   ],
   "source": [
   ]
  }
 ],
 "metadata": {
  "kernelspec": {
   "display_name": "Python 3 (Anaconda)",
   "language": "python",
   "name": "anaconda3"
  },
  "language_info": {
   "codemirror_mode": {
    "name": "ipython",
    "version": 3
   },
   "file_extension": ".py",
   "mimetype": "text/x-python",
   "name": "python",
   "nbconvert_exporter": "python",
   "pygments_lexer": "ipython3",
   "version": "3.5.5"
  }
 },
 "nbformat": 4,
 "nbformat_minor": 0
}